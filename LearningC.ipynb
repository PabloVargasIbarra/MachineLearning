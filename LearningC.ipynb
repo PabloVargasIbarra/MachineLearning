{
 "cells": [
  {
   "cell_type": "markdown",
   "metadata": {
    "collapsed": true
   },
   "source": [
    "# Curvas de aprendizaje"
   ]
  },
  {
   "cell_type": "markdown",
   "metadata": {},
   "source": [
    "En este notebook se muestra el comportamiento que sufrirá un modelo de regresión conforme aumentemos la cantidad de datos. <p>\n",
    "Dividiremos la muestra en un 80% entrenamiento y 20% validación para evaluar la capacidad de generalización. <p>\n",
    "Se corresponde al capitulo 4 del TFG, apartado \"Evaluación de modelos\". <p>"
   ]
  },
  {
   "cell_type": "code",
   "execution_count": 1,
   "metadata": {
    "collapsed": true
   },
   "outputs": [],
   "source": [
    "import numpy as np\n",
    "import matplotlib.pyplot as plt\n",
    "from sklearn.linear_model import LinearRegression\n",
    "from sklearn.metrics import mean_squared_error"
   ]
  },
  {
   "cell_type": "markdown",
   "metadata": {},
   "source": [
    "La variable dependiente $y$ vendrá definida por la siguiente relación: <p>\n",
    "$$y = 1 -2x + 3x^{2} + \\epsilon \\ \\ ; \\ \\ \\epsilon \\sim \\mathcal{N}(0,\\,\\sigma^{2} = 0.01)$$ <p>\n",
    "**m** número tamaño de la muestra"
   ]
  },
  {
   "cell_type": "code",
   "execution_count": 2,
   "metadata": {
    "collapsed": true
   },
   "outputs": [],
   "source": [
    "m = 3000\n",
    "a = 1\n",
    "b = -2\n",
    "c = 3\n",
    "X = np.random.random(m).reshape(m, 1)\n",
    "epsilon = np.random.normal(0, 0.1, m).reshape(m, 1)\n",
    "y = a + b*X + c*X**2 + epsilon"
   ]
  },
  {
   "cell_type": "markdown",
   "metadata": {},
   "source": [
    "Observamos la función para 100 puntos"
   ]
  },
  {
   "cell_type": "code",
   "execution_count": 3,
   "metadata": {},
   "outputs": [
    {
     "data": {
      "image/png": "[encoded data removed]",
      "text/plain": [
       "<matplotlib.figure.Figure at 0x208595bd208>"
      ]
     },
     "metadata": {},
     "output_type": "display_data"
    }
   ],
   "source": [
    "plt.scatter(X[:100], y[:100])\n",
    "plt.show()"
   ]
  },
  {
   "cell_type": "markdown",
   "metadata": {},
   "source": [
    "Trataremos dos funciones distintas, la primera con alto sesgo:\n",
    "$$h_{1}(x) = \\theta_{0} + \\theta_{1}x$$ <p>"
   ]
  },
  {
   "cell_type": "markdown",
   "metadata": {},
   "source": [
    "Segunda función con alta varianza: <p>\n",
    "$$h_{2}(x) = \\theta_{0} + \\theta_{1}x + \\theta_{2}x^{2} + \\theta_{3}x^{3} + \\theta_{4}x^{4} + \\theta_{4}x^{5} + \\theta_{6}x^{6} + \\theta_{7}x^{7} + \\theta_{8}x^{8}$$ <p>\n",
    "Generaremos las nuevas variables de esta segunda función a partir de las iniciales con:"
   ]
  },
  {
   "cell_type": "code",
   "execution_count": 4,
   "metadata": {
    "collapsed": true
   },
   "outputs": [],
   "source": [
    "def polynomial(X):\n",
    "    X2 = X**2\n",
    "    X3 = X**3\n",
    "    X4 = X**4\n",
    "    X5 = X**5\n",
    "    X6 = X**6\n",
    "    X7= X**7\n",
    "    X8 = X**8\n",
    "    return(np.concatenate([X, X2, X3, X4, X5, X6, X7, X8], axis = 1))"
   ]
  },
  {
   "cell_type": "markdown",
   "metadata": {},
   "source": [
    "Vamos a evaluar la precisión de cada modelo en función del número de datos, m. <p>\n",
    "La métrica será el error cuadrático medio. \n",
    "$${\\dfrac{1}{m}}{\n",
    "\\sum_{i=1}^{m}(h_{\\theta}(x^{(i)})-y^{(i)})^2}$$"
   ]
  },
  {
   "cell_type": "markdown",
   "metadata": {},
   "source": [
    "El valor óptimo viene dado por la varianza de $\\epsilon$. <p>\n",
    "**Óptimo: 0.01**"
   ]
  },
  {
   "cell_type": "markdown",
   "metadata": {},
   "source": [
    "## Modelo con alto sesgo (Underfitting)"
   ]
  },
  {
   "cell_type": "markdown",
   "metadata": {},
   "source": [
    "Inicializamos las variables"
   ]
  },
  {
   "cell_type": "code",
   "execution_count": 5,
   "metadata": {
    "collapsed": true
   },
   "outputs": [],
   "source": [
    "list_m = range(10, m, 10)\n",
    "J_train = np.zeros(len(list_m))\n",
    "J_val = np.zeros(len(list_m))"
   ]
  },
  {
   "cell_type": "markdown",
   "metadata": {},
   "source": [
    "Generamos distintos modelos en función del número de datos."
   ]
  },
  {
   "cell_type": "code",
   "execution_count": 6,
   "metadata": {
    "collapsed": true
   },
   "outputs": [],
   "source": [
    "count = 0\n",
    "for i in list_m:\n",
    "    k = int(i/3)\n",
    "    reg = LinearRegression()\n",
    "    reg.fit(X[:k], y[:k])\n",
    "    J_train[count] = mean_squared_error(reg.predict(X[:k]), y[:k])\n",
    "    J_val[count] = mean_squared_error(reg.predict(X[k:]), y[k:])\n",
    "    count = count + 1"
   ]
  },
  {
   "cell_type": "markdown",
   "metadata": {},
   "source": [
    "Dibujamos la curva de aprendizaje."
   ]
  },
  {
   "cell_type": "code",
   "execution_count": 7,
   "metadata": {},
   "outputs": [
    {
     "data": {
      "image/png": "[encoded data removed]",
      "text/plain": [
       "<matplotlib.figure.Figure at 0x20859bd6f98>"
      ]
     },
     "metadata": {},
     "output_type": "display_data"
    }
   ],
   "source": [
    "plt.plot(list_m, J_train, color='blue')\n",
    "plt.plot(list_m, J_val, color='green')\n",
    "plt.plot(list_m, [0.01 for i in range(len(list_m))], color = 'r')\n",
    "plt.title('h1(x)')\n",
    "plt.ylabel('MSE')\n",
    "plt.xlabel('m (tamaño de la muestra)')\n",
    "#plt.ylim(0.0075, 0.015)\n",
    "plt.legend(['J_train', 'J_test', 'Óptimo'])\n",
    "plt.show()"
   ]
  },
  {
   "cell_type": "markdown",
   "metadata": {},
   "source": [
    "El hecho de disponer de un mayor número de datos no nos permite mejorar la capacidad predictiva en un modelo que sufre underfitting"
   ]
  },
  {
   "cell_type": "markdown",
   "metadata": {},
   "source": [
    "## Modelo con alta varianza (Overfitting)"
   ]
  },
  {
   "cell_type": "code",
   "execution_count": 8,
   "metadata": {
    "collapsed": true
   },
   "outputs": [],
   "source": [
    "list_m = range(100, m, 10)\n",
    "J_train = np.zeros(len(list_m))\n",
    "J_val = np.zeros(len(list_m))"
   ]
  },
  {
   "cell_type": "code",
   "execution_count": 9,
   "metadata": {
    "collapsed": true
   },
   "outputs": [],
   "source": [
    "count = 0\n",
    "for i in list_m:\n",
    "    k = int(i/4)\n",
    "    X_train = polynomial(X[:k])\n",
    "    y_train = y[:k]\n",
    "    X_val = polynomial(X[k:])\n",
    "    y_val = y[k:]\n",
    "    reg = LinearRegression()\n",
    "    reg.fit(X_train, y_train)\n",
    "    J_train[count] = mean_squared_error(reg.predict(X_train), y_train)\n",
    "    J_val[count] = mean_squared_error(reg.predict(X_val), y_val)\n",
    "    count = count + 1"
   ]
  },
  {
   "cell_type": "markdown",
   "metadata": {},
   "source": [
    "Dibujamos la curva de aprendizaje."
   ]
  },
  {
   "cell_type": "code",
   "execution_count": 10,
   "metadata": {},
   "outputs": [
    {
     "data": {
      "image/png": "[encoded data removed]",
      "text/plain": [
       "<matplotlib.figure.Figure at 0x20859c52748>"
      ]
     },
     "metadata": {},
     "output_type": "display_data"
    }
   ],
   "source": [
    "plt.plot(list_m, J_train, color = 'blue')\n",
    "plt.plot(list_m, J_val, color = 'green')\n",
    "plt.plot(list_m, [0.01 for i in range(len(list_m))], color = 'r')\n",
    "plt.title('h2(x)')\n",
    "plt.ylabel('MSE')\n",
    "plt.xlabel('m (tamaño de la muestra)')\n",
    "plt.legend(['J_train', 'J_test', 'Optimo'])\n",
    "plt.show()"
   ]
  },
  {
   "cell_type": "markdown",
   "metadata": {},
   "source": [
    "Conforme aumentamos el número de datos, nuestro modelo aún siendo demasiado complejo, converge a la solución óptima."
   ]
  }
 ],
 "metadata": {
  "kernelspec": {
   "display_name": "Python 3",
   "language": "python",
   "name": "python3"
  },
  "language_info": {
   "codemirror_mode": {
    "name": "ipython",
    "version": 3
   },
   "file_extension": ".py",
   "mimetype": "text/x-python",
   "name": "python",
   "nbconvert_exporter": "python",
   "pygments_lexer": "ipython3",
   "version": "3.6.3"
  }
 },
 "nbformat": 4,
 "nbformat_minor": 2
}

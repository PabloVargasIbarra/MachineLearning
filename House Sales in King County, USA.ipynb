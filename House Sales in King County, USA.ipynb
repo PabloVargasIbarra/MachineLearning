{
 "cells": [
  {
   "cell_type": "markdown",
   "metadata": {
    "collapsed": false
   },
   "source": [
    "## Ejemplo predicción de precios.\n",
    "\n",
    "La base de datos se puede encontrar en:<p>\n",
    "https://www.kaggle.com/harlfoxem/housesalesprediction/data<p>\n",
    "Predicción del precio de casas en King County, USA.<p>\n",
    "Leo los datos y observo si hay correlación entre la variable que quiero predecir (precio) y el resto:<p>"
   ]
  },
  {
   "cell_type": "code",
   "execution_count": 1,
   "metadata": {
    "collapsed": false
   },
   "outputs": [
    {
     "data": {
      "text/plain": [
       "id              -0.016762\n",
       "price            1.000000\n",
       "bedrooms         0.308350\n",
       "bathrooms        0.525138\n",
       "sqft_living      0.702035\n",
       "sqft_lot         0.089661\n",
       "floors           0.256794\n",
       "waterfront       0.266369\n",
       "view             0.397293\n",
       "condition        0.036362\n",
       "grade            0.667434\n",
       "sqft_above       0.605567\n",
       "sqft_basement    0.323816\n",
       "yr_built         0.054012\n",
       "yr_renovated     0.126434\n",
       "zipcode         -0.053203\n",
       "lat              0.307003\n",
       "long             0.021626\n",
       "sqft_living15    0.585379\n",
       "sqft_lot15       0.082447\n",
       "Name: price, dtype: float64"
      ]
     },
     "execution_count": 1,
     "metadata": {},
     "output_type": "execute_result"
    }
   ],
   "source": [
    "import pandas as pd\n",
    "import numpy as np\n",
    "\n",
    "data = pd.read_csv('kc_house_data.csv')\n",
    "data.corr().ix[:, 1]"
   ]
  },
  {
   "cell_type": "markdown",
   "metadata": {},
   "source": [
    "Realizo un tratamiento de datos creando variables dummies y eliminando las\n",
    "menos correladas, (id, date y long)"
   ]
  },
  {
   "cell_type": "code",
   "execution_count": 2,
   "metadata": {
    "collapsed": false
   },
   "outputs": [],
   "source": [
    "data[\"zipcode\"] = data[\"zipcode\"].astype('category')\n",
    "data[\"grade\"] = data[\"grade\"].astype('category')\n",
    "data[\"waterfront\"] = data[\"waterfront\"].astype('category')\n",
    "data[\"condition\"] = data[\"condition\"].astype('category')\n",
    "data.drop([\"id\", \"date\", \"long\"], axis=1, inplace = True)"
   ]
  },
  {
   "cell_type": "markdown",
   "metadata": {},
   "source": [
    "Divido la muestra en entrenamiento, validación y test.(60/20/20)"
   ]
  },
  {
   "cell_type": "code",
   "execution_count": 3,
   "metadata": {
    "collapsed": false
   },
   "outputs": [],
   "source": [
    "from sklearn import preprocessing\n",
    "train, val, test = np.split(data.sample(frac=1, random_state=1),\n",
    "                            [int(.6*len(data)), int(.8*len(data))])\n",
    "y_train = train[\"price\"]\n",
    "y_val = val[\"price\"]\n",
    "y_test = test[\"price\"]\n",
    "X_train = train.ix[:, 1:103]\n",
    "X_val = val.ix[:, 1:103]\n",
    "X_test = test.ix[:, 1:103]"
   ]
  },
  {
   "cell_type": "markdown",
   "metadata": {},
   "source": [
    "Calculo distintos modelos en función de $C$ y $d$ <p>\n",
    "En scikit-learn es $\\alpha=1/C$ y el grado del polinomio (d). <p>\n",
    "Calculo el error cuadrático medio para los tres data sets."
   ]
  },
  {
   "cell_type": "code",
   "execution_count": 4,
   "metadata": {
    "collapsed": false
   },
   "outputs": [],
   "source": [
    "from sklearn import metrics, linear_model\n",
    "\n",
    "list_C = list([1, 5000000, 20000000, 60000000,80000000])\n",
    "list_d = range(1,3)\n",
    "mse_train = np.zeros(len(list_C)*len(list_d))\n",
    "mse_val = np.zeros(len(list_C)*len(list_d))\n",
    "mse_test = np.zeros(len(list_C)*len(list_d))\n",
    "degree = np.zeros(len(list_C)*len(list_d))\n",
    "param_C = np.zeros(len(list_C)*len(list_d))\n",
    "R_test = np.zeros(len(list_C)*len(list_d))\n",
    "count = 0\n",
    "for d in list_d:\n",
    "    MapFeature = preprocessing.PolynomialFeatures(degree=d)\n",
    "    for C in list_C:\n",
    "        reg = linear_model.Ridge(alpha = 1/C)\n",
    "        reg.fit(MapFeature.fit_transform(X_train), y_train)\n",
    "        mse_train[count] = metrics.mean_squared_error(y_train,\n",
    "                            reg.predict(MapFeature.fit_transform(X_train)))\n",
    "        mse_val[count] = metrics.mean_squared_error(y_val,\n",
    "                          reg.predict(MapFeature.fit_transform(X_val)))\n",
    "        mse_test[count] = metrics.mean_squared_error(y_test, \n",
    "                           reg.predict(MapFeature.fit_transform(X_test)))\n",
    "        R_test[count] = reg.score(MapFeature.fit_transform(X_test), \n",
    "                                  y_test)\n",
    "        degree[count] = d\n",
    "        param_C[count]  = C\n",
    "        count = count + 1"
   ]
  },
  {
   "cell_type": "markdown",
   "metadata": {},
   "source": [
    "Observo los distintos modelos y su error cuadratico medio (ECM).Es decir:<p>\n",
    "$J_\\text{train}(\\theta)=$ Train ECM <p>\n",
    "$J_\\text{val}(\\theta)=$ Validation ECM <p>\n",
    "$J_\\text{test}(\\theta)=$ Test ECM <p>"
   ]
  },
  {
   "cell_type": "code",
   "execution_count": 5,
   "metadata": {
    "collapsed": false
   },
   "outputs": [
    {
     "data": {
      "text/html": [
       "<div>\n",
       "<table border=\"1\" class=\"dataframe\">\n",
       "  <thead>\n",
       "    <tr style=\"text-align: right;\">\n",
       "      <th></th>\n",
       "      <th>degree d</th>\n",
       "      <th>parameter C</th>\n",
       "      <th>Train ECM</th>\n",
       "      <th>Validation ECM</th>\n",
       "      <th>Test ECM</th>\n",
       "    </tr>\n",
       "  </thead>\n",
       "  <tbody>\n",
       "    <tr>\n",
       "      <th>0</th>\n",
       "      <td>1.0</td>\n",
       "      <td>1.0</td>\n",
       "      <td>4.282301e+10</td>\n",
       "      <td>3.276862e+10</td>\n",
       "      <td>4.385838e+10</td>\n",
       "    </tr>\n",
       "    <tr>\n",
       "      <th>1</th>\n",
       "      <td>1.0</td>\n",
       "      <td>5000000.0</td>\n",
       "      <td>4.282253e+10</td>\n",
       "      <td>3.277855e+10</td>\n",
       "      <td>4.385736e+10</td>\n",
       "    </tr>\n",
       "    <tr>\n",
       "      <th>2</th>\n",
       "      <td>1.0</td>\n",
       "      <td>20000000.0</td>\n",
       "      <td>4.282253e+10</td>\n",
       "      <td>3.277855e+10</td>\n",
       "      <td>4.385736e+10</td>\n",
       "    </tr>\n",
       "    <tr>\n",
       "      <th>3</th>\n",
       "      <td>1.0</td>\n",
       "      <td>60000000.0</td>\n",
       "      <td>4.282253e+10</td>\n",
       "      <td>3.277855e+10</td>\n",
       "      <td>4.385736e+10</td>\n",
       "    </tr>\n",
       "    <tr>\n",
       "      <th>4</th>\n",
       "      <td>1.0</td>\n",
       "      <td>80000000.0</td>\n",
       "      <td>4.282253e+10</td>\n",
       "      <td>3.277855e+10</td>\n",
       "      <td>4.385736e+10</td>\n",
       "    </tr>\n",
       "    <tr>\n",
       "      <th>5</th>\n",
       "      <td>2.0</td>\n",
       "      <td>1.0</td>\n",
       "      <td>2.526040e+10</td>\n",
       "      <td>2.645794e+10</td>\n",
       "      <td>3.093323e+10</td>\n",
       "    </tr>\n",
       "    <tr>\n",
       "      <th>6</th>\n",
       "      <td>2.0</td>\n",
       "      <td>5000000.0</td>\n",
       "      <td>2.504494e+10</td>\n",
       "      <td>2.587034e+10</td>\n",
       "      <td>2.999033e+10</td>\n",
       "    </tr>\n",
       "    <tr>\n",
       "      <th>7</th>\n",
       "      <td>2.0</td>\n",
       "      <td>20000000.0</td>\n",
       "      <td>2.504723e+10</td>\n",
       "      <td>2.582580e+10</td>\n",
       "      <td>3.002905e+10</td>\n",
       "    </tr>\n",
       "    <tr>\n",
       "      <th>8</th>\n",
       "      <td>2.0</td>\n",
       "      <td>60000000.0</td>\n",
       "      <td>2.506376e+10</td>\n",
       "      <td>2.578471e+10</td>\n",
       "      <td>3.014321e+10</td>\n",
       "    </tr>\n",
       "    <tr>\n",
       "      <th>9</th>\n",
       "      <td>2.0</td>\n",
       "      <td>80000000.0</td>\n",
       "      <td>2.507763e+10</td>\n",
       "      <td>2.578002e+10</td>\n",
       "      <td>3.020606e+10</td>\n",
       "    </tr>\n",
       "  </tbody>\n",
       "</table>\n",
       "</div>"
      ],
      "text/plain": [
       "   degree d  parameter C     Train ECM  Validation ECM      Test ECM\n",
       "0       1.0          1.0  4.282301e+10    3.276862e+10  4.385838e+10\n",
       "1       1.0    5000000.0  4.282253e+10    3.277855e+10  4.385736e+10\n",
       "2       1.0   20000000.0  4.282253e+10    3.277855e+10  4.385736e+10\n",
       "3       1.0   60000000.0  4.282253e+10    3.277855e+10  4.385736e+10\n",
       "4       1.0   80000000.0  4.282253e+10    3.277855e+10  4.385736e+10\n",
       "5       2.0          1.0  2.526040e+10    2.645794e+10  3.093323e+10\n",
       "6       2.0    5000000.0  2.504494e+10    2.587034e+10  2.999033e+10\n",
       "7       2.0   20000000.0  2.504723e+10    2.582580e+10  3.002905e+10\n",
       "8       2.0   60000000.0  2.506376e+10    2.578471e+10  3.014321e+10\n",
       "9       2.0   80000000.0  2.507763e+10    2.578002e+10  3.020606e+10"
      ]
     },
     "execution_count": 5,
     "metadata": {},
     "output_type": "execute_result"
    }
   ],
   "source": [
    "matrix = np.matrix(np.c_[degree, param_C, mse_train, \n",
    "                         mse_val, mse_test, R_test])\n",
    "models = pd.DataFrame(data = matrix, columns = \n",
    "             ['degree d', 'parameter C', 'Train ECM', \n",
    "              'Validation ECM', 'Test ECM', 'R^2 Test'])\n",
    "models.ix[:, :5].head(n=10)"
   ]
  },
  {
   "cell_type": "markdown",
   "metadata": {},
   "source": [
    "Elijo el modelo que menor error cuadrático medio tiene en el conjunto de validación.<p>\n",
    "La capacidad de generalización vendrá dada por el error en el conjunto de test <p>\n",
    "Esto es debido a que es totalmente independiente al modelo elegido.<p>\n",
    "Si evaluasemos el error de generalización con el conjunto de validación <p>\n",
    "tenderíamos a sobreestimarlo dado que ha sido un parámetro a la hora de elegir el modelo."
   ]
  },
  {
   "cell_type": "code",
   "execution_count": 6,
   "metadata": {
    "collapsed": false
   },
   "outputs": [
    {
     "name": "stdout",
     "output_type": "stream",
     "text": [
      "Modelo con menor ECM en el conjunto de validación\n"
     ]
    },
    {
     "data": {
      "text/plain": [
       "degree d          2.000000e+00\n",
       "parameter C       8.000000e+07\n",
       "Train ECM         2.507763e+10\n",
       "Validation ECM    2.578002e+10\n",
       "Test ECM          3.020606e+10\n",
       "R^2 Test          7.890281e-01\n",
       "Name: 9, dtype: float64"
      ]
     },
     "execution_count": 6,
     "metadata": {},
     "output_type": "execute_result"
    }
   ],
   "source": [
    "best_index = models['Validation ECM'].idxmin()\n",
    "print('Modelo con menor ECM en el conjunto de validación')\n",
    "models.ix[best_index, :]"
   ]
  },
  {
   "cell_type": "markdown",
   "metadata": {},
   "source": [
    "El modelo generaliza bien porque $J_\\text{train}(\\theta) \\approx J_\\text{val}(\\theta)$<p>\n",
    "Mido la capacidad de generalización por $J_\\text{test}(\\theta)$, dado que el test set es independiente a la elección del modelo.<p>\n",
    "El coeficiente de determinacion $R^2$ es 0.79"
   ]
  }
 ],
 "metadata": {
  "anaconda-cloud": {},
  "kernelspec": {
   "display_name": "Python [default]",
   "language": "python",
   "name": "python3"
  },
  "language_info": {
   "codemirror_mode": {
    "name": "ipython",
    "version": 3
   },
   "file_extension": ".py",
   "mimetype": "text/x-python",
   "name": "python",
   "nbconvert_exporter": "python",
   "pygments_lexer": "ipython3",
   "version": "3.5.2"
  }
 },
 "nbformat": 4,
 "nbformat_minor": 1
}

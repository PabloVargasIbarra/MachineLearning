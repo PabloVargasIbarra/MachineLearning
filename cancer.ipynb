{
 "cells": [
  {
   "cell_type": "markdown",
   "metadata": {},
   "source": [
    "## Ejemplo clasificatorio sobre enfermos de cancer"
   ]
  },
  {
   "cell_type": "markdown",
   "metadata": {},
   "source": [
    "Importo los datos de kaggle \"Breast Cancer Wisconsin\";<p> https://www.kaggle.com/uciml/breast-cancer-wisconsin-data/data <p>\n",
    "Información sobre los datos en : <p>\n",
    "https://archive.ics.uci.edu/ml/machine-learning-databases/breast-cancer-wisconsin/wdbc.names<p> <p>\n",
    "Tomo como $y=1$ la diagnosis de un tumor maligno. \n",
    "Observo las variables de los 10 primeros individuos."
   ]
  },
  {
   "cell_type": "code",
   "execution_count": 1,
   "metadata": {
    "collapsed": false
   },
   "outputs": [],
   "source": [
    "import pandas as pd\n",
    "import numpy as np\n",
    "\n",
    "data = pd.read_csv('data.csv').ix[:, 1:32]\n",
    "data['diagnosis']=data['diagnosis'].map({'M':1,'B':0})"
   ]
  },
  {
   "cell_type": "markdown",
   "metadata": {},
   "source": [
    "Primero divido la muestra en entrenamiento, validación y test. (60/20/20) <p>\n",
    "Calculo distintos modelos variando C. <p>\n",
    "Calculo para la Accuracy para mis tres data sets.<p>\n",
    "Calculo el recall y precisión de cada modelo para el test set."
   ]
  },
  {
   "cell_type": "code",
   "execution_count": 2,
   "metadata": {
    "collapsed": false
   },
   "outputs": [],
   "source": [
    "from sklearn import linear_model, metrics, cross_validation\n",
    "\n",
    "train, validate, test = np.split(data.sample(frac=1, random_state=1),\n",
    "                                 [int(.6*len(data)), int(.8*len(data))])\n",
    "list_C = np.arange(1/10000000 , 1000, 0.1)\n",
    "score_train = np.zeros(len(list_C)); score_val = np.zeros(len(list_C))\n",
    "score_test = np.zeros(len(list_C)) ; recall_test = np.zeros(len(list_C))\n",
    "precision_test= np.zeros(len(list_C)); count = 0\n",
    "for C in list_C:\n",
    "    reg = linear_model.LogisticRegression(C=C)\n",
    "    reg.fit(train.ix[:,2:32], train['diagnosis'])\n",
    "    score_train[count]= metrics.accuracy_score(\n",
    "        train['diagnosis'], reg.predict(train.ix[:, 2:32]))\n",
    "    score_val[count] = metrics.accuracy_score(\n",
    "        validate['diagnosis'], reg.predict(validate.ix[:, 2:32]))\n",
    "    score_test[count] = metrics.accuracy_score(\n",
    "        test['diagnosis'], reg.predict(test.ix[:, 2:32]))\n",
    "    recall_test[count] = metrics.recall_score(\n",
    "        test['diagnosis'], reg.predict(test.ix[:, 2:32]))\n",
    "    precision_test[count] = metrics.precision_score(\n",
    "        test['diagnosis'], reg.predict(test.ix[:, 2:32]))\n",
    "    count = count + 1 "
   ]
  },
  {
   "cell_type": "markdown",
   "metadata": {},
   "source": [
    "Creo un data frame para cada modelo (distinto valor de C) con todas las métricas calculadas."
   ]
  },
  {
   "cell_type": "code",
   "execution_count": 3,
   "metadata": {
    "collapsed": false
   },
   "outputs": [
    {
     "data": {
      "text/html": [
       "<div>\n",
       "<table border=\"1\" class=\"dataframe\">\n",
       "  <thead>\n",
       "    <tr style=\"text-align: right;\">\n",
       "      <th></th>\n",
       "      <th>C</th>\n",
       "      <th>Train Accuracy</th>\n",
       "      <th>Validation Accuracy</th>\n",
       "      <th>Test Accuracy</th>\n",
       "    </tr>\n",
       "  </thead>\n",
       "  <tbody>\n",
       "    <tr>\n",
       "      <th>0</th>\n",
       "      <td>1.000000e-07</td>\n",
       "      <td>0.369501</td>\n",
       "      <td>0.359649</td>\n",
       "      <td>0.394737</td>\n",
       "    </tr>\n",
       "    <tr>\n",
       "      <th>1</th>\n",
       "      <td>1.000001e-01</td>\n",
       "      <td>0.926686</td>\n",
       "      <td>0.973684</td>\n",
       "      <td>0.973684</td>\n",
       "    </tr>\n",
       "    <tr>\n",
       "      <th>2</th>\n",
       "      <td>2.000001e-01</td>\n",
       "      <td>0.932551</td>\n",
       "      <td>0.964912</td>\n",
       "      <td>0.964912</td>\n",
       "    </tr>\n",
       "    <tr>\n",
       "      <th>3</th>\n",
       "      <td>3.000001e-01</td>\n",
       "      <td>0.935484</td>\n",
       "      <td>0.964912</td>\n",
       "      <td>0.964912</td>\n",
       "    </tr>\n",
       "    <tr>\n",
       "      <th>4</th>\n",
       "      <td>4.000001e-01</td>\n",
       "      <td>0.938416</td>\n",
       "      <td>0.964912</td>\n",
       "      <td>0.964912</td>\n",
       "    </tr>\n",
       "  </tbody>\n",
       "</table>\n",
       "</div>"
      ],
      "text/plain": [
       "              C  Train Accuracy  Validation Accuracy  Test Accuracy\n",
       "0  1.000000e-07        0.369501             0.359649       0.394737\n",
       "1  1.000001e-01        0.926686             0.973684       0.973684\n",
       "2  2.000001e-01        0.932551             0.964912       0.964912\n",
       "3  3.000001e-01        0.935484             0.964912       0.964912\n",
       "4  4.000001e-01        0.938416             0.964912       0.964912"
      ]
     },
     "execution_count": 3,
     "metadata": {},
     "output_type": "execute_result"
    }
   ],
   "source": [
    "matrix = np.matrix(np.c_[list_C, score_train, score_val, \n",
    "                         score_test, recall_test, precision_test])\n",
    "models = pd.DataFrame(data = matrix, columns = \n",
    "             ['C', 'Train Accuracy', 'Validation Accuracy', \n",
    "              'Test Accuracy', 'Test Recall', 'Test Precision'])\n",
    "models.ix[:, :4].head(n=5)"
   ]
  },
  {
   "cell_type": "markdown",
   "metadata": {},
   "source": [
    "Elijo el mejor modelo en función de la Accuracy en el validate test. Observo el resto de métricas."
   ]
  },
  {
   "cell_type": "code",
   "execution_count": 4,
   "metadata": {
    "collapsed": false
   },
   "outputs": [
    {
     "data": {
      "text/plain": [
       "C                      399.400000\n",
       "Train Accuracy           0.982405\n",
       "Validation Accuracy      0.991228\n",
       "Test Accuracy            0.964912\n",
       "Test Recall              0.933333\n",
       "Test Precision           0.976744\n",
       "Name: 3994, dtype: float64"
      ]
     },
     "execution_count": 4,
     "metadata": {},
     "output_type": "execute_result"
    }
   ],
   "source": [
    "best_index = models['Validation Accuracy'].idxmax()\n",
    "models.ix[best_index, :]"
   ]
  },
  {
   "cell_type": "markdown",
   "metadata": {},
   "source": [
    "El modelo lo hemos elegido tomando como parámetro el validate set. <p>\n",
    "La manera correcta de estimar la capacidad de generalización es evaluarla sobre el test set. <p>\n",
    "Si lo hicieramos sobre el validate test, sobreestimariamos su capacidad al haberlo tomado como parámetro al elegir el modelo."
   ]
  },
  {
   "cell_type": "code",
   "execution_count": 5,
   "metadata": {
    "collapsed": false
   },
   "outputs": [
    {
     "data": {
      "text/plain": [
       "LogisticRegression(C=399.40000010000006, class_weight=None, dual=False,\n",
       "          fit_intercept=True, intercept_scaling=1, max_iter=100,\n",
       "          multi_class='ovr', n_jobs=1, penalty='l2', random_state=None,\n",
       "          solver='liblinear', tol=0.0001, verbose=0, warm_start=False)"
      ]
     },
     "execution_count": 5,
     "metadata": {},
     "output_type": "execute_result"
    }
   ],
   "source": [
    "reg = linear_model.LogisticRegression(C=list_C[best_index])\n",
    "reg.fit(train.ix[:,2:32], train['diagnosis'])"
   ]
  },
  {
   "cell_type": "markdown",
   "metadata": {},
   "source": [
    "Calculo las matrices de confusión."
   ]
  },
  {
   "cell_type": "code",
   "execution_count": 6,
   "metadata": {
    "collapsed": false
   },
   "outputs": [
    {
     "name": "stdout",
     "output_type": "stream",
     "text": [
      "Train Set\n"
     ]
    },
    {
     "data": {
      "text/html": [
       "<div>\n",
       "<table border=\"1\" class=\"dataframe\">\n",
       "  <thead>\n",
       "    <tr style=\"text-align: right;\">\n",
       "      <th></th>\n",
       "      <th>Predicted 1</th>\n",
       "      <th>Predicted 0</th>\n",
       "    </tr>\n",
       "  </thead>\n",
       "  <tbody>\n",
       "    <tr>\n",
       "      <th>Actual 1</th>\n",
       "      <td>213</td>\n",
       "      <td>2</td>\n",
       "    </tr>\n",
       "    <tr>\n",
       "      <th>Actual 0</th>\n",
       "      <td>4</td>\n",
       "      <td>122</td>\n",
       "    </tr>\n",
       "  </tbody>\n",
       "</table>\n",
       "</div>"
      ],
      "text/plain": [
       "          Predicted 1  Predicted 0\n",
       "Actual 1          213            2\n",
       "Actual 0            4          122"
      ]
     },
     "execution_count": 6,
     "metadata": {},
     "output_type": "execute_result"
    }
   ],
   "source": [
    "print('Train Set')\n",
    "m_confusion_train = metrics.confusion_matrix(train['diagnosis'],\n",
    "                         reg.predict(train.ix[:, 2:32]))\n",
    "pd.DataFrame(data = m_confusion_train, \n",
    "            columns = ['Predicted 1', 'Predicted 0'],\n",
    "            index = ['Actual 1', 'Actual 0'])"
   ]
  },
  {
   "cell_type": "code",
   "execution_count": 7,
   "metadata": {
    "collapsed": false
   },
   "outputs": [
    {
     "name": "stdout",
     "output_type": "stream",
     "text": [
      "Validate Set\n"
     ]
    },
    {
     "data": {
      "text/html": [
       "<div>\n",
       "<table border=\"1\" class=\"dataframe\">\n",
       "  <thead>\n",
       "    <tr style=\"text-align: right;\">\n",
       "      <th></th>\n",
       "      <th>Predicted 1</th>\n",
       "      <th>Predicted 0</th>\n",
       "    </tr>\n",
       "  </thead>\n",
       "  <tbody>\n",
       "    <tr>\n",
       "      <th>Actual 1</th>\n",
       "      <td>73</td>\n",
       "      <td>0</td>\n",
       "    </tr>\n",
       "    <tr>\n",
       "      <th>Actual 0</th>\n",
       "      <td>1</td>\n",
       "      <td>40</td>\n",
       "    </tr>\n",
       "  </tbody>\n",
       "</table>\n",
       "</div>"
      ],
      "text/plain": [
       "          Predicted 1  Predicted 0\n",
       "Actual 1           73            0\n",
       "Actual 0            1           40"
      ]
     },
     "execution_count": 7,
     "metadata": {},
     "output_type": "execute_result"
    }
   ],
   "source": [
    "print('Validate Set')\n",
    "m_confusion_validate = metrics.confusion_matrix(validate['diagnosis'],\n",
    "                         reg.predict(validate.ix[:, 2:32]))\n",
    "pd.DataFrame(data = m_confusion_validate, \n",
    "            columns = ['Predicted 1', 'Predicted 0'],\n",
    "            index = ['Actual 1', 'Actual 0'])"
   ]
  },
  {
   "cell_type": "code",
   "execution_count": 8,
   "metadata": {
    "collapsed": false
   },
   "outputs": [
    {
     "name": "stdout",
     "output_type": "stream",
     "text": [
      "Test Set\n"
     ]
    },
    {
     "data": {
      "text/html": [
       "<div>\n",
       "<table border=\"1\" class=\"dataframe\">\n",
       "  <thead>\n",
       "    <tr style=\"text-align: right;\">\n",
       "      <th></th>\n",
       "      <th>Predicted 1</th>\n",
       "      <th>Predicted 0</th>\n",
       "    </tr>\n",
       "  </thead>\n",
       "  <tbody>\n",
       "    <tr>\n",
       "      <th>Actual 1</th>\n",
       "      <td>68</td>\n",
       "      <td>1</td>\n",
       "    </tr>\n",
       "    <tr>\n",
       "      <th>Actual 0</th>\n",
       "      <td>3</td>\n",
       "      <td>42</td>\n",
       "    </tr>\n",
       "  </tbody>\n",
       "</table>\n",
       "</div>"
      ],
      "text/plain": [
       "          Predicted 1  Predicted 0\n",
       "Actual 1           68            1\n",
       "Actual 0            3           42"
      ]
     },
     "execution_count": 8,
     "metadata": {},
     "output_type": "execute_result"
    }
   ],
   "source": [
    "print('Test Set')\n",
    "m_confusion_test = metrics.confusion_matrix(test['diagnosis'],\n",
    "                         reg.predict(test.ix[:, 2:32]))\n",
    "pd.DataFrame(data = m_confusion_test, \n",
    "             columns = ['Predicted 1', 'Predicted 0'],\n",
    "             index = ['Actual 1', 'Actual 0'])"
   ]
  },
  {
   "cell_type": "markdown",
   "metadata": {},
   "source": [
    "#### Mi modelo comete más error de tipo 1 y menos de tipo 2:\n",
    "\n",
    "#### Error tipo 1 : Clasificar pacientes que tiene un tumor maligno cuando es benigno. (Un gran shock inicial)\n",
    "\n",
    "#### Error tipo 2 : Clasificar pacientes con tumor benigno cuando es maligno. (Mayor probabilidad de muerte)\n",
    "\n",
    "#### Parece razonable."
   ]
  }
 ],
 "metadata": {
  "anaconda-cloud": {},
  "kernelspec": {
   "display_name": "Python [default]",
   "language": "python",
   "name": "python3"
  },
  "language_info": {
   "codemirror_mode": {
    "name": "ipython",
    "version": 3
   },
   "file_extension": ".py",
   "mimetype": "text/x-python",
   "name": "python",
   "nbconvert_exporter": "python",
   "pygments_lexer": "ipython3",
   "version": "3.5.2"
  }
 },
 "nbformat": 4,
 "nbformat_minor": 1
}

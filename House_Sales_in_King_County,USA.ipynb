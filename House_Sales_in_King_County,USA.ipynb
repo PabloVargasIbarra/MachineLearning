{
 "cells": [
  {
   "cell_type": "markdown",
   "metadata": {
    "collapsed": false
   },
   "source": [
    "## Ejemplo predicción de precios.\n",
    "\n",
    "La base de datos se puede encontrar en:<p>\n",
    "https://www.kaggle.com/harlfoxem/housesalesprediction/data<p>\n",
    "Predicción del precio de casas en King County, USA.<p>\n",
    "Veo lacorrelación entre la variable que quiero predecir (precio) y el resto:<p>"
   ]
  },
  {
   "cell_type": "code",
   "execution_count": 1,
   "metadata": {
    "collapsed": false
   },
   "outputs": [],
   "source": [
    "import pandas as pd\n",
    "import numpy as np\n",
    "import matplotlib.pyplot as plt\n",
    "from sklearn import preprocessing\n",
    "from sklearn import metrics, linear_model"
   ]
  },
  {
   "cell_type": "code",
   "execution_count": 2,
   "metadata": {
    "collapsed": false
   },
   "outputs": [
    {
     "data": {
      "text/plain": [
       "price            1.000000\n",
       "bedrooms         0.308350\n",
       "bathrooms        0.525138\n",
       "sqft_living      0.702035\n",
       "sqft_lot         0.089661\n",
       "floors           0.256794\n",
       "waterfront       0.266369\n",
       "view             0.397293\n",
       "condition        0.036362\n",
       "grade            0.667434\n",
       "sqft_above       0.605567\n",
       "sqft_basement    0.323816\n",
       "yr_built         0.054012\n",
       "yr_renovated     0.126434\n",
       "zipcode         -0.053203\n",
       "lat              0.307003\n",
       "long             0.021626\n",
       "sqft_living15    0.585379\n",
       "sqft_lot15       0.082447\n",
       "Name: price, dtype: float64"
      ]
     },
     "execution_count": 2,
     "metadata": {},
     "output_type": "execute_result"
    }
   ],
   "source": [
    "raw_data = pd.read_csv('data/kc_house_data.csv')\n",
    "f, ax = plt.subplots(figsize=(4, 3))\n",
    "corr = raw_data.corr()\n",
    "corr.ix[1:, 1]"
   ]
  },
  {
   "cell_type": "markdown",
   "metadata": {},
   "source": [
    "Realizo un tratamiento de datos, transformo en variables categóricas (zipcode, grade, waterfront y condition) y posteriormente genero variables dummy. Elimino (id, date y long)"
   ]
  },
  {
   "cell_type": "code",
   "execution_count": 3,
   "metadata": {
    "collapsed": false
   },
   "outputs": [],
   "source": [
    "data = raw_data\n",
    "data[\"zipcode\"] = data[\"zipcode\"].astype('category')\n",
    "data[\"grade\"] = data[\"grade\"].astype('category')\n",
    "data[\"waterfront\"] = data[\"waterfront\"].astype('category')\n",
    "data[\"condition\"] = data[\"condition\"].astype('category')\n",
    "data.drop([\"id\", \"date\", \"long\"], axis=1, inplace = True)\n",
    "data = pd.get_dummies(data)"
   ]
  },
  {
   "cell_type": "markdown",
   "metadata": {},
   "source": [
    "Divido la muestra en entrenamiento, validación y test.(60/20/20)"
   ]
  },
  {
   "cell_type": "code",
   "execution_count": 4,
   "metadata": {
    "collapsed": false
   },
   "outputs": [],
   "source": [
    "train, val, test = np.split(data.sample(frac=1, random_state=1),\n",
    "                            [int(.6*len(data)), int(.8*len(data))])\n",
    "y_train = train[\"price\"]\n",
    "y_val = val[\"price\"]\n",
    "y_test = test[\"price\"]\n",
    "X_train = train.ix[:, 1:103]\n",
    "X_val = val.ix[:, 1:103]\n",
    "X_test = test.ix[:, 1:103]"
   ]
  },
  {
   "cell_type": "markdown",
   "metadata": {},
   "source": [
    "Calculo distintos modelos en función de el parámetro de regularización y la complejidad de la hipótesis <p>\n",
    "En scikit-learn es $\\alpha=\\dfrac{1}{C}$ y el grado del polinomio lo tomo de la función PolynomialFeatures ($d$). <p>\n",
    "Calculo la raiz del error cuadrático medio para los tres data sets."
   ]
  },
  {
   "cell_type": "code",
   "execution_count": 5,
   "metadata": {
    "collapsed": false
   },
   "outputs": [],
   "source": [
    "list_C = list([0.1, 0.0001,0.00000001,  \n",
    "               0.000000001, 0.000000005])\n",
    "list_d = [1, 2]; count = 0\n",
    "mse_train = np.zeros(len(list_C)*len(list_d))\n",
    "mse_val = np.zeros(len(list_C)*len(list_d))\n",
    "mse_test = np.zeros(len(list_C)*len(list_d))\n",
    "degree = np.zeros(len(list_C)*len(list_d))\n",
    "param_C = np.zeros(len(list_C)*len(list_d))\n",
    "R_test = np.zeros(len(list_C)*len(list_d))\n",
    "for d in list_d:\n",
    "    MapF = preprocessing.PolynomialFeatures(degree=d)\n",
    "    for C in list_C:\n",
    "        reg = linear_model.Ridge(alpha = 1/C)\n",
    "        reg.fit(MapF.fit_transform(X_train), y_train)\n",
    "        mse_train[count] = np.sqrt(metrics.mean_squared_error(y_train,\n",
    "                            reg.predict(MapF.fit_transform(X_train))))\n",
    "        mse_val[count] = np.sqrt(metrics.mean_squared_error(y_val,\n",
    "                          reg.predict(MapF.fit_transform(X_val))))\n",
    "        mse_test[count] = np.sqrt(metrics.mean_squared_error(y_test, \n",
    "                           reg.predict(MapF.fit_transform(X_test))))\n",
    "        R_test[count] = reg.score(MapF.fit_transform(X_test), y_test)\n",
    "        degree[count] = d\n",
    "        param_C[count]  = C\n",
    "        count = count + 1"
   ]
  },
  {
   "cell_type": "markdown",
   "metadata": {},
   "source": [
    "$\\text{Observo alguno modelos y la raiz de su error cuadratico medio (RMSE).} \\\\\n",
    " \\sqrt{J_\\text{train}(\\theta)} \\text{ = Train RMSE} \\\\\n",
    " \\sqrt{J_\\text{val}(\\theta)} \\text{  = Validation RMSE} \\\\\n",
    " \\sqrt{J_\\text{test}(\\theta)} \\text{ = Test RMSE}$"
   ]
  },
  {
   "cell_type": "code",
   "execution_count": 6,
   "metadata": {
    "collapsed": false
   },
   "outputs": [
    {
     "data": {
      "text/html": [
       "<div>\n",
       "<table border=\"1\" class=\"dataframe\">\n",
       "  <thead>\n",
       "    <tr style=\"text-align: right;\">\n",
       "      <th></th>\n",
       "      <th>d</th>\n",
       "      <th>parameter C</th>\n",
       "      <th>Train RMSE</th>\n",
       "      <th>Val RMSE</th>\n",
       "      <th>Test RMSE</th>\n",
       "      <th>R^2 Test</th>\n",
       "    </tr>\n",
       "  </thead>\n",
       "  <tbody>\n",
       "    <tr>\n",
       "      <th>0</th>\n",
       "      <td>1.0</td>\n",
       "      <td>1.000000e-01</td>\n",
       "      <td>154654.185</td>\n",
       "      <td>138077.410</td>\n",
       "      <td>155271.980</td>\n",
       "      <td>0.832</td>\n",
       "    </tr>\n",
       "    <tr>\n",
       "      <th>1</th>\n",
       "      <td>1.0</td>\n",
       "      <td>1.000000e-04</td>\n",
       "      <td>240817.986</td>\n",
       "      <td>214464.110</td>\n",
       "      <td>243528.825</td>\n",
       "      <td>0.586</td>\n",
       "    </tr>\n",
       "    <tr>\n",
       "      <th>2</th>\n",
       "      <td>1.0</td>\n",
       "      <td>1.000000e-08</td>\n",
       "      <td>259763.200</td>\n",
       "      <td>232956.935</td>\n",
       "      <td>262739.972</td>\n",
       "      <td>0.518</td>\n",
       "    </tr>\n",
       "    <tr>\n",
       "      <th>3</th>\n",
       "      <td>1.0</td>\n",
       "      <td>1.000000e-09</td>\n",
       "      <td>261464.051</td>\n",
       "      <td>233428.053</td>\n",
       "      <td>264295.415</td>\n",
       "      <td>0.512</td>\n",
       "    </tr>\n",
       "    <tr>\n",
       "      <th>4</th>\n",
       "      <td>1.0</td>\n",
       "      <td>5.000000e-09</td>\n",
       "      <td>260313.338</td>\n",
       "      <td>233390.852</td>\n",
       "      <td>263299.973</td>\n",
       "      <td>0.516</td>\n",
       "    </tr>\n",
       "    <tr>\n",
       "      <th>5</th>\n",
       "      <td>2.0</td>\n",
       "      <td>1.000000e-01</td>\n",
       "      <td>94770.163</td>\n",
       "      <td>151192.934</td>\n",
       "      <td>135241.450</td>\n",
       "      <td>0.872</td>\n",
       "    </tr>\n",
       "    <tr>\n",
       "      <th>6</th>\n",
       "      <td>2.0</td>\n",
       "      <td>1.000000e-04</td>\n",
       "      <td>105706.098</td>\n",
       "      <td>153093.041</td>\n",
       "      <td>136972.359</td>\n",
       "      <td>0.869</td>\n",
       "    </tr>\n",
       "  </tbody>\n",
       "</table>\n",
       "</div>"
      ],
      "text/plain": [
       "     d   parameter C  Train RMSE    Val RMSE   Test RMSE  R^2 Test\n",
       "0  1.0  1.000000e-01  154654.185  138077.410  155271.980     0.832\n",
       "1  1.0  1.000000e-04  240817.986  214464.110  243528.825     0.586\n",
       "2  1.0  1.000000e-08  259763.200  232956.935  262739.972     0.518\n",
       "3  1.0  1.000000e-09  261464.051  233428.053  264295.415     0.512\n",
       "4  1.0  5.000000e-09  260313.338  233390.852  263299.973     0.516\n",
       "5  2.0  1.000000e-01   94770.163  151192.934  135241.450     0.872\n",
       "6  2.0  1.000000e-04  105706.098  153093.041  136972.359     0.869"
      ]
     },
     "execution_count": 6,
     "metadata": {},
     "output_type": "execute_result"
    }
   ],
   "source": [
    "matrix = np.matrix(np.c_[degree, param_C, np.round_(mse_train, 3), \n",
    "                         np.round_(mse_val, 3), np.round_(mse_test, 3), \n",
    "                         np.round_(R_test, 3)])\n",
    "models = pd.DataFrame(data = matrix, columns = \n",
    "             ['d', 'parameter C', 'Train RMSE', \n",
    "              'Val RMSE', 'Test RMSE', 'R^2 Test'])\n",
    "models.head(n=7)"
   ]
  },
  {
   "cell_type": "markdown",
   "metadata": {},
   "source": [
    "Selecciono el modelo con menor raiz del error cuadrático medio sobre el conjunto de validación. La capacidad real de generalización vendrá dada por el error en el conjunto de test dado que es totalmente independiente al modelo elegido. Si evaluasemos este error con el conjunto de validación tenderíamos a sobreestimarlo dado que ha sido un parámetro a la hora de elegir el modelo. <p>\n",
    "Modelo con menor RMSE en el conjunto de validación"
   ]
  },
  {
   "cell_type": "code",
   "execution_count": 7,
   "metadata": {
    "collapsed": false
   },
   "outputs": [
    {
     "data": {
      "text/plain": [
       "d              2.000000e+00\n",
       "parameter C    1.000000e-08\n",
       "Train RMSE     1.127296e+05\n",
       "Val RMSE       1.325598e+05\n",
       "Test RMSE      1.323642e+05\n",
       "R^2 Test       8.780000e-01\n",
       "Name: 7, dtype: float64"
      ]
     },
     "execution_count": 7,
     "metadata": {},
     "output_type": "execute_result"
    }
   ],
   "source": [
    "best_index = models['Val RMSE'].idxmin()\n",
    "models.ix[best_index, :]"
   ]
  },
  {
   "cell_type": "markdown",
   "metadata": {},
   "source": [
    "Mido la capacidad de generalización con $\\sqrt{J_\\text{test}(\\theta)}$ y $R^2$ que es 0.878"
   ]
  }
 ],
 "metadata": {
  "anaconda-cloud": {},
  "kernelspec": {
   "display_name": "Python [default]",
   "language": "python",
   "name": "python3"
  },
  "language_info": {
   "codemirror_mode": {
    "name": "ipython",
    "version": 3
   },
   "file_extension": ".py",
   "mimetype": "text/x-python",
   "name": "python",
   "nbconvert_exporter": "python",
   "pygments_lexer": "ipython3",
   "version": "3.5.2"
  }
 },
 "nbformat": 4,
 "nbformat_minor": 1
}

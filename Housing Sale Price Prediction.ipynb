{
 "cells": [
  {
   "cell_type": "markdown",
   "metadata": {},
   "source": [
    "## Ejemplo predicción de precios.\n",
    "\n",
    "La base de datos se puede encontrar en:<p>\n",
    "https://www.kaggle.com/harlfoxem/housesalesprediction/data<p>\n",
    "Predicción del precio de casas en King County, USA.<p>"
   ]
  },
  {
   "cell_type": "code",
   "execution_count": 40,
   "metadata": {},
   "outputs": [],
   "source": [
    "import pandas as pd\n",
    "import numpy as np\n",
    "import matplotlib.pyplot as plt\n",
    "import seaborn as sns\n",
    "from sklearn import preprocessing\n",
    "from sklearn import metrics, linear_model\n",
    "from sklearn.metrics import mean_squared_error\n",
    "from sklearn.linear_model import Ridge\n",
    "from sklearn.preprocessing import PolynomialFeatures, StandardScaler"
   ]
  },
  {
   "cell_type": "markdown",
   "metadata": {},
   "source": [
    "Veo la correlación entre la variable que quiero predecir (precio) y el resto:"
   ]
  },
  {
   "cell_type": "code",
   "execution_count": 44,
   "metadata": {},
   "outputs": [
    {
     "data": {
      "text/html": [
       "<div>\n",
       "<style>\n",
       "    .dataframe thead tr:only-child th {\n",
       "        text-align: right;\n",
       "    }\n",
       "\n",
       "    .dataframe thead th {\n",
       "        text-align: left;\n",
       "    }\n",
       "\n",
       "    .dataframe tbody tr th {\n",
       "        vertical-align: top;\n",
       "    }\n",
       "</style>\n",
       "<table border=\"1\" class=\"dataframe\">\n",
       "  <thead>\n",
       "    <tr style=\"text-align: right;\">\n",
       "      <th></th>\n",
       "      <th>price</th>\n",
       "      <th>bedrooms</th>\n",
       "      <th>bathrooms</th>\n",
       "      <th>sqft_living</th>\n",
       "      <th>sqft_lot</th>\n",
       "      <th>floors</th>\n",
       "      <th>waterfront</th>\n",
       "      <th>view</th>\n",
       "      <th>condition</th>\n",
       "      <th>grade</th>\n",
       "      <th>sqft_above</th>\n",
       "      <th>sqft_basement</th>\n",
       "      <th>yr_built</th>\n",
       "      <th>yr_renovated</th>\n",
       "      <th>zipcode</th>\n",
       "      <th>lat</th>\n",
       "      <th>long</th>\n",
       "      <th>sqft_living15</th>\n",
       "      <th>sqft_lot15</th>\n",
       "    </tr>\n",
       "    <tr>\n",
       "      <th>id</th>\n",
       "      <th></th>\n",
       "      <th></th>\n",
       "      <th></th>\n",
       "      <th></th>\n",
       "      <th></th>\n",
       "      <th></th>\n",
       "      <th></th>\n",
       "      <th></th>\n",
       "      <th></th>\n",
       "      <th></th>\n",
       "      <th></th>\n",
       "      <th></th>\n",
       "      <th></th>\n",
       "      <th></th>\n",
       "      <th></th>\n",
       "      <th></th>\n",
       "      <th></th>\n",
       "      <th></th>\n",
       "      <th></th>\n",
       "    </tr>\n",
       "  </thead>\n",
       "  <tbody>\n",
       "    <tr>\n",
       "      <th>7129300520</th>\n",
       "      <td>221900.0</td>\n",
       "      <td>3</td>\n",
       "      <td>1.00</td>\n",
       "      <td>1180</td>\n",
       "      <td>5650</td>\n",
       "      <td>1.0</td>\n",
       "      <td>0</td>\n",
       "      <td>0</td>\n",
       "      <td>3</td>\n",
       "      <td>7</td>\n",
       "      <td>1180</td>\n",
       "      <td>0</td>\n",
       "      <td>1955</td>\n",
       "      <td>0</td>\n",
       "      <td>98178</td>\n",
       "      <td>47.5112</td>\n",
       "      <td>-122.257</td>\n",
       "      <td>1340</td>\n",
       "      <td>5650</td>\n",
       "    </tr>\n",
       "    <tr>\n",
       "      <th>6414100192</th>\n",
       "      <td>538000.0</td>\n",
       "      <td>3</td>\n",
       "      <td>2.25</td>\n",
       "      <td>2570</td>\n",
       "      <td>7242</td>\n",
       "      <td>2.0</td>\n",
       "      <td>0</td>\n",
       "      <td>0</td>\n",
       "      <td>3</td>\n",
       "      <td>7</td>\n",
       "      <td>2170</td>\n",
       "      <td>400</td>\n",
       "      <td>1951</td>\n",
       "      <td>1991</td>\n",
       "      <td>98125</td>\n",
       "      <td>47.7210</td>\n",
       "      <td>-122.319</td>\n",
       "      <td>1690</td>\n",
       "      <td>7639</td>\n",
       "    </tr>\n",
       "    <tr>\n",
       "      <th>5631500400</th>\n",
       "      <td>180000.0</td>\n",
       "      <td>2</td>\n",
       "      <td>1.00</td>\n",
       "      <td>770</td>\n",
       "      <td>10000</td>\n",
       "      <td>1.0</td>\n",
       "      <td>0</td>\n",
       "      <td>0</td>\n",
       "      <td>3</td>\n",
       "      <td>6</td>\n",
       "      <td>770</td>\n",
       "      <td>0</td>\n",
       "      <td>1933</td>\n",
       "      <td>0</td>\n",
       "      <td>98028</td>\n",
       "      <td>47.7379</td>\n",
       "      <td>-122.233</td>\n",
       "      <td>2720</td>\n",
       "      <td>8062</td>\n",
       "    </tr>\n",
       "    <tr>\n",
       "      <th>2487200875</th>\n",
       "      <td>604000.0</td>\n",
       "      <td>4</td>\n",
       "      <td>3.00</td>\n",
       "      <td>1960</td>\n",
       "      <td>5000</td>\n",
       "      <td>1.0</td>\n",
       "      <td>0</td>\n",
       "      <td>0</td>\n",
       "      <td>5</td>\n",
       "      <td>7</td>\n",
       "      <td>1050</td>\n",
       "      <td>910</td>\n",
       "      <td>1965</td>\n",
       "      <td>0</td>\n",
       "      <td>98136</td>\n",
       "      <td>47.5208</td>\n",
       "      <td>-122.393</td>\n",
       "      <td>1360</td>\n",
       "      <td>5000</td>\n",
       "    </tr>\n",
       "    <tr>\n",
       "      <th>1954400510</th>\n",
       "      <td>510000.0</td>\n",
       "      <td>3</td>\n",
       "      <td>2.00</td>\n",
       "      <td>1680</td>\n",
       "      <td>8080</td>\n",
       "      <td>1.0</td>\n",
       "      <td>0</td>\n",
       "      <td>0</td>\n",
       "      <td>3</td>\n",
       "      <td>8</td>\n",
       "      <td>1680</td>\n",
       "      <td>0</td>\n",
       "      <td>1987</td>\n",
       "      <td>0</td>\n",
       "      <td>98074</td>\n",
       "      <td>47.6168</td>\n",
       "      <td>-122.045</td>\n",
       "      <td>1800</td>\n",
       "      <td>7503</td>\n",
       "    </tr>\n",
       "  </tbody>\n",
       "</table>\n",
       "</div>"
      ],
      "text/plain": [
       "               price  bedrooms  bathrooms  sqft_living  sqft_lot  floors  \\\n",
       "id                                                                         \n",
       "7129300520  221900.0         3       1.00         1180      5650     1.0   \n",
       "6414100192  538000.0         3       2.25         2570      7242     2.0   \n",
       "5631500400  180000.0         2       1.00          770     10000     1.0   \n",
       "2487200875  604000.0         4       3.00         1960      5000     1.0   \n",
       "1954400510  510000.0         3       2.00         1680      8080     1.0   \n",
       "\n",
       "            waterfront  view  condition  grade  sqft_above  sqft_basement  \\\n",
       "id                                                                          \n",
       "7129300520           0     0          3      7        1180              0   \n",
       "6414100192           0     0          3      7        2170            400   \n",
       "5631500400           0     0          3      6         770              0   \n",
       "2487200875           0     0          5      7        1050            910   \n",
       "1954400510           0     0          3      8        1680              0   \n",
       "\n",
       "            yr_built  yr_renovated  zipcode      lat     long  sqft_living15  \\\n",
       "id                                                                             \n",
       "7129300520      1955             0    98178  47.5112 -122.257           1340   \n",
       "6414100192      1951          1991    98125  47.7210 -122.319           1690   \n",
       "5631500400      1933             0    98028  47.7379 -122.233           2720   \n",
       "2487200875      1965             0    98136  47.5208 -122.393           1360   \n",
       "1954400510      1987             0    98074  47.6168 -122.045           1800   \n",
       "\n",
       "            sqft_lot15  \n",
       "id                      \n",
       "7129300520        5650  \n",
       "6414100192        7639  \n",
       "5631500400        8062  \n",
       "2487200875        5000  \n",
       "1954400510        7503  "
      ]
     },
     "execution_count": 44,
     "metadata": {},
     "output_type": "execute_result"
    }
   ],
   "source": [
    "df = pd.read_csv('data/kc_house_data.csv').set_index('id').drop('date', axis = 1)\n",
    "df.head()"
   ]
  },
  {
   "cell_type": "code",
   "execution_count": 45,
   "metadata": {},
   "outputs": [
    {
     "data": {
      "image/png": "[encoded data removed]",
      "text/plain": [
       "<matplotlib.figure.Figure at 0x289f9e09f28>"
      ]
     },
     "metadata": {},
     "output_type": "display_data"
    }
   ],
   "source": [
    "corr = df.corr()\n",
    "\n",
    "# Generate a mask for the upper triangle\n",
    "mask = np.zeros_like(corr, dtype=np.bool)\n",
    "mask[np.triu_indices_from(mask)] = True\n",
    "\n",
    "# Set up the matplotlib figure\n",
    "f, ax = plt.subplots(figsize=(11, 9))\n",
    "\n",
    "# Generate a custom diverging colormap\n",
    "cmap = sns.diverging_palette(220, 10, as_cmap=True)\n",
    "\n",
    "# Draw the heatmap with the mask and correct aspect ratio\n",
    "sns.heatmap(corr, mask=mask, cmap=cmap, vmax=.3, center=0,\n",
    "            square=True, linewidths=.5, cbar_kws={\"shrink\": .5})\n",
    "plt.show()"
   ]
  },
  {
   "cell_type": "markdown",
   "metadata": {},
   "source": [
    "Realizo un tratamiento de datos, transformo en variables categóricas (zipcode, grade, waterfront y condition) y posteriormente genero variables dummy. Elimino (id, date y long)"
   ]
  },
  {
   "cell_type": "code",
   "execution_count": 36,
   "metadata": {
    "collapsed": true
   },
   "outputs": [],
   "source": [
    "data = raw_data\n",
    "data[\"zipcode\"] = data[\"zipcode\"].astype('category')\n",
    "data[\"grade\"] = data[\"grade\"].astype('category')\n",
    "data[\"waterfront\"] = data[\"waterfront\"].astype('category')\n",
    "data[\"condition\"] = data[\"condition\"].astype('category')\n",
    "data.drop([\"id\", \"date\", \"long\"], axis=1, inplace = True)\n",
    "data = pd.get_dummies(data)"
   ]
  },
  {
   "cell_type": "markdown",
   "metadata": {},
   "source": [
    "Primero divido la muestra en entrenamiento, validación y test con proporcion (60/20/20) <p>\n",
    "Estandarizo todas las variables según la distribución de la muestra de entrenamiento dado que voy a aplicar regularización."
   ]
  },
  {
   "cell_type": "code",
   "execution_count": 51,
   "metadata": {},
   "outputs": [],
   "source": [
    "train, val, test = np.split(data.sample(frac=1, random_state=1),\n",
    "                            [int(.6*len(data)), int(.8*len(data))])\n",
    "X_train = train.iloc[:, 1:103]\n",
    "X_val = val.iloc[:, 1:103]\n",
    "X_test = test.iloc[:, 1:103]\n",
    "y_train = train[\"price\"]\n",
    "y_val = val[\"price\"]\n",
    "y_test = test[\"price\"]"
   ]
  },
  {
   "cell_type": "markdown",
   "metadata": {},
   "source": [
    "Calculo distintos modelos en función de el parámetro de regularización y la complejidad de la hipótesis <p>\n",
    "En scikit-learn es $\\alpha=\\dfrac{1}{C}$ y el grado del polinomio lo tomo de la función PolynomialFeatures ($d$). <p>\n",
    "Calculo la raiz del error cuadrático medio para los tres data sets."
   ]
  },
  {
   "cell_type": "code",
   "execution_count": 55,
   "metadata": {},
   "outputs": [],
   "source": [
    "list_C = list([0.1, 0.0001,0.00000001,  \n",
    "               0.000000001, 0.000000005])\n",
    "list_d = [1, 2]; count = 0\n",
    "mse_train = np.zeros(len(list_C)*len(list_d))\n",
    "mse_val = np.zeros(len(list_C)*len(list_d))\n",
    "mse_test = np.zeros(len(list_C)*len(list_d))\n",
    "degree = np.zeros(len(list_C)*len(list_d))\n",
    "param_C = np.zeros(len(list_C)*len(list_d))\n",
    "R_test = np.zeros(len(list_C)*len(list_d))\n",
    "for d in list_d:\n",
    "    MapF = PolynomialFeatures(degree=d)\n",
    "    for C in list_C:\n",
    "        reg = Ridge(alpha = 1/C, normalize = True)\n",
    "        reg.fit(MapF.fit_transform(X_train), y_train)\n",
    "        mse_train[count] = np.sqrt(mean_squared_error(y_train,\n",
    "                            reg.predict(MapF.fit_transform(X_train))))\n",
    "        mse_val[count] = np.sqrt(mean_squared_error(y_val,\n",
    "                          reg.predict(MapF.fit_transform(X_val))))\n",
    "        mse_test[count] = np.sqrt(mean_squared_error(y_test, \n",
    "                           reg.predict(MapF.fit_transform(X_test))))\n",
    "        R_test[count] = reg.score(MapF.fit_transform(X_test), y_test)\n",
    "        degree[count] = d\n",
    "        param_C[count]  = C\n",
    "        count = count + 1"
   ]
  },
  {
   "cell_type": "markdown",
   "metadata": {},
   "source": [
    "$\\text{Observo alguno modelos y la raiz de su error cuadratico medio (RMSE).} \\\\\n",
    " \\sqrt{J_\\text{train}(\\theta)} \\text{ = Train RMSE} \\\\\n",
    " \\sqrt{J_\\text{val}(\\theta)} \\text{  = Validation RMSE} \\\\\n",
    " \\sqrt{J_\\text{test}(\\theta)} \\text{ = Test RMSE}$"
   ]
  },
  {
   "cell_type": "code",
   "execution_count": 56,
   "metadata": {},
   "outputs": [
    {
     "data": {
      "text/html": [
       "<div>\n",
       "<style>\n",
       "    .dataframe thead tr:only-child th {\n",
       "        text-align: right;\n",
       "    }\n",
       "\n",
       "    .dataframe thead th {\n",
       "        text-align: left;\n",
       "    }\n",
       "\n",
       "    .dataframe tbody tr th {\n",
       "        vertical-align: top;\n",
       "    }\n",
       "</style>\n",
       "<table border=\"1\" class=\"dataframe\">\n",
       "  <thead>\n",
       "    <tr style=\"text-align: right;\">\n",
       "      <th></th>\n",
       "      <th>d</th>\n",
       "      <th>parameter C</th>\n",
       "      <th>Train RMSE</th>\n",
       "      <th>Val RMSE</th>\n",
       "      <th>Test RMSE</th>\n",
       "      <th>R^2 Test</th>\n",
       "    </tr>\n",
       "  </thead>\n",
       "  <tbody>\n",
       "    <tr>\n",
       "      <th>0</th>\n",
       "      <td>1.0</td>\n",
       "      <td>1.000000e-01</td>\n",
       "      <td>296318.703</td>\n",
       "      <td>259268.546</td>\n",
       "      <td>298887.352</td>\n",
       "      <td>0.376</td>\n",
       "    </tr>\n",
       "    <tr>\n",
       "      <th>1</th>\n",
       "      <td>1.0</td>\n",
       "      <td>1.000000e-04</td>\n",
       "      <td>373991.357</td>\n",
       "      <td>332802.103</td>\n",
       "      <td>378265.116</td>\n",
       "      <td>0.001</td>\n",
       "    </tr>\n",
       "    <tr>\n",
       "      <th>2</th>\n",
       "      <td>1.0</td>\n",
       "      <td>1.000000e-08</td>\n",
       "      <td>374111.223</td>\n",
       "      <td>332916.853</td>\n",
       "      <td>378387.517</td>\n",
       "      <td>-0.000</td>\n",
       "    </tr>\n",
       "    <tr>\n",
       "      <th>3</th>\n",
       "      <td>1.0</td>\n",
       "      <td>1.000000e-09</td>\n",
       "      <td>374111.234</td>\n",
       "      <td>332916.863</td>\n",
       "      <td>378387.528</td>\n",
       "      <td>-0.000</td>\n",
       "    </tr>\n",
       "    <tr>\n",
       "      <th>4</th>\n",
       "      <td>1.0</td>\n",
       "      <td>5.000000e-09</td>\n",
       "      <td>374111.229</td>\n",
       "      <td>332916.858</td>\n",
       "      <td>378387.523</td>\n",
       "      <td>-0.000</td>\n",
       "    </tr>\n",
       "    <tr>\n",
       "      <th>5</th>\n",
       "      <td>2.0</td>\n",
       "      <td>1.000000e-01</td>\n",
       "      <td>154729.274</td>\n",
       "      <td>144827.712</td>\n",
       "      <td>162322.727</td>\n",
       "      <td>0.816</td>\n",
       "    </tr>\n",
       "    <tr>\n",
       "      <th>6</th>\n",
       "      <td>2.0</td>\n",
       "      <td>1.000000e-04</td>\n",
       "      <td>372741.416</td>\n",
       "      <td>331662.662</td>\n",
       "      <td>377011.421</td>\n",
       "      <td>0.007</td>\n",
       "    </tr>\n",
       "  </tbody>\n",
       "</table>\n",
       "</div>"
      ],
      "text/plain": [
       "     d   parameter C  Train RMSE    Val RMSE   Test RMSE  R^2 Test\n",
       "0  1.0  1.000000e-01  296318.703  259268.546  298887.352     0.376\n",
       "1  1.0  1.000000e-04  373991.357  332802.103  378265.116     0.001\n",
       "2  1.0  1.000000e-08  374111.223  332916.853  378387.517    -0.000\n",
       "3  1.0  1.000000e-09  374111.234  332916.863  378387.528    -0.000\n",
       "4  1.0  5.000000e-09  374111.229  332916.858  378387.523    -0.000\n",
       "5  2.0  1.000000e-01  154729.274  144827.712  162322.727     0.816\n",
       "6  2.0  1.000000e-04  372741.416  331662.662  377011.421     0.007"
      ]
     },
     "execution_count": 56,
     "metadata": {},
     "output_type": "execute_result"
    }
   ],
   "source": [
    "matrix = np.matrix(np.c_[degree, param_C, np.round_(mse_train, 3), \n",
    "                         np.round_(mse_val, 3), np.round_(mse_test, 3), \n",
    "                         np.round_(R_test, 3)])\n",
    "models = pd.DataFrame(data = matrix, columns = \n",
    "             ['d', 'parameter C', 'Train RMSE', \n",
    "              'Val RMSE', 'Test RMSE', 'R^2 Test'])\n",
    "models.head(n=7)"
   ]
  },
  {
   "cell_type": "markdown",
   "metadata": {},
   "source": [
    "Selecciono el modelo con menor raiz del error cuadrático medio sobre el conjunto de validación. La capacidad real de generalización vendrá dada por el error en el conjunto de test dado que es totalmente independiente al modelo elegido. Si evaluasemos este error con el conjunto de validación tenderíamos a sobreestimarlo dado que ha sido un parámetro a la hora de elegir el modelo. <p>\n",
    "Modelo con menor RMSE en el conjunto de validación"
   ]
  },
  {
   "cell_type": "code",
   "execution_count": 57,
   "metadata": {},
   "outputs": [
    {
     "data": {
      "text/plain": [
       "d                   2.000\n",
       "parameter C         0.100\n",
       "Train RMSE     154729.274\n",
       "Val RMSE       144827.712\n",
       "Test RMSE      162322.727\n",
       "R^2 Test            0.816\n",
       "Name: 5, dtype: float64"
      ]
     },
     "execution_count": 57,
     "metadata": {},
     "output_type": "execute_result"
    }
   ],
   "source": [
    "best_index = models['Val RMSE'].idxmin()\n",
    "models.iloc[best_index, :]"
   ]
  },
  {
   "cell_type": "markdown",
   "metadata": {},
   "source": [
    "Mido la capacidad de generalización con $\\sqrt{J_\\text{test}(\\theta)}$ y $R^2$ que es 0.878"
   ]
  },
  {
   "cell_type": "code",
   "execution_count": 58,
   "metadata": {},
   "outputs": [
    {
     "data": {
      "text/plain": [
       "(12967, 5356)"
      ]
     },
     "execution_count": 58,
     "metadata": {},
     "output_type": "execute_result"
    }
   ],
   "source": [
    "MapF.fit_transform(X_train).shape"
   ]
  }
 ],
 "metadata": {
  "anaconda-cloud": {},
  "kernelspec": {
   "display_name": "Python 3",
   "language": "python",
   "name": "python3"
  },
  "language_info": {
   "codemirror_mode": {
    "name": "ipython",
    "version": 3
   },
   "file_extension": ".py",
   "mimetype": "text/x-python",
   "name": "python",
   "nbconvert_exporter": "python",
   "pygments_lexer": "ipython3",
   "version": "3.6.3"
  }
 },
 "nbformat": 4,
 "nbformat_minor": 1
}
